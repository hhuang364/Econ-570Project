{
 "cells": [
  {
   "cell_type": "markdown",
   "metadata": {},
   "source": [
    "covid19cases_test.csv:\n",
    "https://data.chhs.ca.gov/dataset/covid-19-time-series-metrics-by-county-and-state/resource/046cdd2b-31e5-4d34-9ed3-b48cdbc4be7a?inner_span=True\n",
    "\n",
    "insurance data (ACS_Health_Insurance_Coverage_-_County.csv):\n",
    "https://covid19-uscensus.hub.arcgis.com/datasets/acs-health-insurance-coverage-county?geometry=-133.190%2C28.795%2C133.821%2C67.148\n",
    "\n",
    "racial population data (cc-est2019-alldata-06.csv)：\n",
    "https://www.census.gov/data/tables/time-series/demo/popest/2010s-counties-detail.html"
   ]
  },
  {
   "cell_type": "code",
   "execution_count": 1,
   "metadata": {},
   "outputs": [],
   "source": [
    "import pandas as pd\n",
    "import matplotlib.pyplot as plt  \n",
    "import seaborn as sns\n",
    "import numpy as np\n",
    "import datetime as dt\n",
    "import statsmodels.formula.api as smf"
   ]
  },
  {
   "cell_type": "code",
   "execution_count": 2,
   "metadata": {},
   "outputs": [],
   "source": [
    "ca_data = pd.read_csv('data_files/covid19cases_test.csv')\n",
    "ca_data = ca_data[ca_data['area_type']=='County']          # Keep only county level data\n",
    "ca_data.rename(columns={'area':'county'},inplace=True)\n",
    "ca_data.drop('area_type',axis=1,inplace=True)\n",
    "ca_cumulative = ca_data[['reported_cases','reported_deaths','county']].groupby('county').sum()   # Get the total amount\n",
    "ca_cumulative['population'] = ca_data[['population','county']].groupby('county').max()       # Get the total population\n",
    "\n",
    "ca_cumulative['cases_percent'] = ca_cumulative['reported_cases']/ca_cumulative['population']*100\n",
    "ca_cumulative['deaths_percent'] = ca_cumulative['reported_deaths']/ca_cumulative['population']*100\n",
    "ca_cumulative.drop(['Out of state','Unknown'], axis=0, inplace=True)"
   ]
  },
  {
   "cell_type": "code",
   "execution_count": 3,
   "metadata": {},
   "outputs": [
    {
     "data": {
      "text/html": [
       "<div>\n",
       "<style scoped>\n",
       "    .dataframe tbody tr th:only-of-type {\n",
       "        vertical-align: middle;\n",
       "    }\n",
       "\n",
       "    .dataframe tbody tr th {\n",
       "        vertical-align: top;\n",
       "    }\n",
       "\n",
       "    .dataframe thead th {\n",
       "        text-align: right;\n",
       "    }\n",
       "</style>\n",
       "<table border=\"1\" class=\"dataframe\">\n",
       "  <thead>\n",
       "    <tr style=\"text-align: right;\">\n",
       "      <th></th>\n",
       "      <th>reported_cases</th>\n",
       "      <th>reported_deaths</th>\n",
       "      <th>population</th>\n",
       "      <th>cases_percent</th>\n",
       "      <th>deaths_percent</th>\n",
       "      <th>uninsured_percent</th>\n",
       "    </tr>\n",
       "    <tr>\n",
       "      <th>key_0</th>\n",
       "      <th></th>\n",
       "      <th></th>\n",
       "      <th></th>\n",
       "      <th></th>\n",
       "      <th></th>\n",
       "      <th></th>\n",
       "    </tr>\n",
       "  </thead>\n",
       "  <tbody>\n",
       "    <tr>\n",
       "      <th>Glenn</th>\n",
       "      <td>2361.0</td>\n",
       "      <td>17.0</td>\n",
       "      <td>29348.0</td>\n",
       "      <td>8.044841</td>\n",
       "      <td>0.057926</td>\n",
       "      <td>8.6</td>\n",
       "    </tr>\n",
       "    <tr>\n",
       "      <th>Lassen</th>\n",
       "      <td>5155.0</td>\n",
       "      <td>1.0</td>\n",
       "      <td>30065.0</td>\n",
       "      <td>17.146183</td>\n",
       "      <td>0.003326</td>\n",
       "      <td>4.4</td>\n",
       "    </tr>\n",
       "    <tr>\n",
       "      <th>Mono</th>\n",
       "      <td>1254.0</td>\n",
       "      <td>3.0</td>\n",
       "      <td>13961.0</td>\n",
       "      <td>8.982165</td>\n",
       "      <td>0.021488</td>\n",
       "      <td>16.1</td>\n",
       "    </tr>\n",
       "  </tbody>\n",
       "</table>\n",
       "</div>"
      ],
      "text/plain": [
       "        reported_cases  reported_deaths  population  cases_percent  \\\n",
       "key_0                                                                \n",
       "Glenn           2361.0             17.0     29348.0       8.044841   \n",
       "Lassen          5155.0              1.0     30065.0      17.146183   \n",
       "Mono            1254.0              3.0     13961.0       8.982165   \n",
       "\n",
       "        deaths_percent  uninsured_percent  \n",
       "key_0                                      \n",
       "Glenn         0.057926                8.6  \n",
       "Lassen        0.003326                4.4  \n",
       "Mono          0.021488               16.1  "
      ]
     },
     "execution_count": 3,
     "metadata": {},
     "output_type": "execute_result"
    }
   ],
   "source": [
    "ca_insu = pd.read_csv('data_files/ACS_Health_Insurance_Coverage_-_County.csv')\n",
    "ca_insu = ca_insu[ca_insu['State']=='California']        # Keep data only from counties in California\n",
    "ca_insu = ca_insu[['NAME','B27010_calc_pctNoInsE']]      # Keep county name column, and percent of uninsured at all\n",
    "ca_insu.rename(columns={'NAME':'county','B27010_calc_pctNoInsE':'uninsured_percent'},inplace=True)\n",
    "\n",
    "def get(name):                                           # Method used to delete \"county\" from \"*** county\"\n",
    "    return name[:-7]\n",
    "\n",
    "ca_insu['county'] = ca_insu['county'].map(get)           # Delete \"county\" from \"*** county\" in 'county' column\n",
    "ca_insu.set_index('county',inplace=True)\n",
    "\n",
    "ca_cumulative = pd.merge(left=ca_cumulative, right=ca_insu, left_on=ca_cumulative.index, right_on=ca_insu.index) #merge\n",
    "ca_cumulative.set_index('key_0',inplace=True)            # Set the county name column ('ker_0' after merge) as index\n",
    "ca_cumulative.sample(3)"
   ]
  },
  {
   "cell_type": "code",
   "execution_count": 4,
   "metadata": {},
   "outputs": [
    {
     "data": {
      "image/png": "[encoded data removed]",
      "text/plain": [
       "<Figure size 720x360 with 1 Axes>"
      ]
     },
     "metadata": {
      "needs_background": "light"
     },
     "output_type": "display_data"
    }
   ],
   "source": [
    "fig, ax = plt.subplots(figsize=(10,5)) \n",
    "\n",
    "\n",
    "sns.regplot(x='uninsured_percent',              # Percent of people not insured at all as independent variable\n",
    "            y= 'cases_percent',                 # Percent of cases as dependent variable\n",
    "            data = ca_cumulative,\n",
    "            ax = ax,\n",
    "            color = 'Black',\n",
    "            dropna=True,\n",
    "            ci = 95)                            # 95% CI                          \n",
    "\n",
    "sns.despine(ax = ax)\n",
    "                            \n",
    "\n",
    "#ax.set_title('Covid case rate and insurance coverage by county in California')\n",
    "ax.set_xlabel('Uninsured rate (%)')\n",
    "ax.set_ylabel('Case rate (%)')\n",
    "\n",
    "#plt.savefig('../uninsurance_cases.svg')\n",
    "\n",
    "plt.show()"
   ]
  },
  {
   "cell_type": "code",
   "execution_count": 5,
   "metadata": {},
   "outputs": [
    {
     "data": {
      "image/png": "[encoded data removed]",
      "text/plain": [
       "<Figure size 720x360 with 1 Axes>"
      ]
     },
     "metadata": {
      "needs_background": "light"
     },
     "output_type": "display_data"
    }
   ],
   "source": [
    "fig, ax = plt.subplots(figsize=(10,5)) \n",
    "\n",
    "\n",
    "sns.regplot(x='uninsured_percent',              # Percent of people not insured at all as independent variable\n",
    "            y= 'deaths_percent',                # Percent of death as dependent variable\n",
    "            data = ca_cumulative,\n",
    "            ax = ax,\n",
    "            color = 'Black',\n",
    "            dropna=True,\n",
    "            ci = 95)                           \n",
    "\n",
    "sns.despine(ax = ax)\n",
    "                            \n",
    "\n",
    "#ax.set_title('Covid death rate and insurance coverage by county in California')\n",
    "ax.set_xlabel('Uninsured rate (%)')\n",
    "ax.set_ylabel('Death rate (%)')\n",
    "\n",
    "#plt.savefig('../uninsurance_deaths.svg')\n",
    "\n",
    "plt.show()"
   ]
  },
  {
   "cell_type": "code",
   "execution_count": 6,
   "metadata": {},
   "outputs": [
    {
     "data": {
      "text/html": [
       "<div>\n",
       "<style scoped>\n",
       "    .dataframe tbody tr th:only-of-type {\n",
       "        vertical-align: middle;\n",
       "    }\n",
       "\n",
       "    .dataframe tbody tr th {\n",
       "        vertical-align: top;\n",
       "    }\n",
       "\n",
       "    .dataframe thead th {\n",
       "        text-align: right;\n",
       "    }\n",
       "</style>\n",
       "<table border=\"1\" class=\"dataframe\">\n",
       "  <thead>\n",
       "    <tr style=\"text-align: right;\">\n",
       "      <th></th>\n",
       "      <th>white_percent</th>\n",
       "      <th>black_percent</th>\n",
       "      <th>hispanic_percent</th>\n",
       "      <th>black_hispanic_percent</th>\n",
       "    </tr>\n",
       "    <tr>\n",
       "      <th>county</th>\n",
       "      <th></th>\n",
       "      <th></th>\n",
       "      <th></th>\n",
       "      <th></th>\n",
       "    </tr>\n",
       "  </thead>\n",
       "  <tbody>\n",
       "    <tr>\n",
       "      <th>Siskiyou</th>\n",
       "      <td>85.854062</td>\n",
       "      <td>1.529663</td>\n",
       "      <td>13.192770</td>\n",
       "      <td>14.722433</td>\n",
       "    </tr>\n",
       "    <tr>\n",
       "      <th>Solano</th>\n",
       "      <td>59.598832</td>\n",
       "      <td>14.771369</td>\n",
       "      <td>27.276870</td>\n",
       "      <td>42.048239</td>\n",
       "    </tr>\n",
       "    <tr>\n",
       "      <th>San Bernardino</th>\n",
       "      <td>76.555547</td>\n",
       "      <td>9.378258</td>\n",
       "      <td>54.438611</td>\n",
       "      <td>63.816870</td>\n",
       "    </tr>\n",
       "  </tbody>\n",
       "</table>\n",
       "</div>"
      ],
      "text/plain": [
       "                white_percent  black_percent  hispanic_percent  \\\n",
       "county                                                           \n",
       "Siskiyou            85.854062       1.529663         13.192770   \n",
       "Solano              59.598832      14.771369         27.276870   \n",
       "San Bernardino      76.555547       9.378258         54.438611   \n",
       "\n",
       "                black_hispanic_percent  \n",
       "county                                  \n",
       "Siskiyou                     14.722433  \n",
       "Solano                       42.048239  \n",
       "San Bernardino               63.816870  "
      ]
     },
     "execution_count": 6,
     "metadata": {},
     "output_type": "execute_result"
    }
   ],
   "source": [
    "ca_race = pd.read_csv('data_files/cc-est2019-alldata-06.csv')\n",
    "\n",
    "# Get most updated data (7.1.2019), and get data for all age group (0 standars for all age group)\n",
    "ca_race = ca_race[(ca_race['YEAR']==ca_race['YEAR'].max()) & (ca_race['AGEGRP']==0)]    \n",
    "\n",
    "ca_race.drop(['SUMLEV','STATE','COUNTY','STNAME','TOT_MALE','TOT_FEMALE','YEAR'],axis=1,inplace=True)\n",
    "\n",
    "ca_race['white'] = ca_race['WA_MALE']+ca_race['WA_FEMALE']        # only consider white alone here\n",
    "ca_race['black'] = ca_race['BA_MALE']+ca_race['BA_FEMALE']        # only consider black alone here\n",
    "ca_race['hispanic'] = ca_race['H_MALE']+ca_race['H_FEMALE']       # only consider hispanic alone here\n",
    "ca_race['black_hispanic'] = ca_race['black']+ca_race['hispanic']  # the number of black alone plus hispanic alone\n",
    "\n",
    "#The sum of race groups adds to more than the total population because individuals may report more than one race\n",
    "\n",
    "\n",
    "ca_race = ca_race[['CTYNAME','TOT_POP','white','black','hispanic','black_hispanic']]    # Get useful columns\n",
    "ca_race.rename(columns={'CTYNAME':'county','TOT_POP':'Population'},inplace=True)\n",
    "ca_race['county'] = ca_race['county'].map(get)                    # Delete \"county\" from \"*** county\" in 'county' column        \n",
    "ca_race.set_index('county',inplace=True)                          # Set county as index\n",
    "\n",
    "\n",
    "ca_race['white_percent'] = ca_race['white']/ca_race['Population']*100\n",
    "ca_race['black_percent'] = ca_race['black']/ca_race['Population']*100\n",
    "ca_race['hispanic_percent'] = ca_race['hispanic']/ca_race['Population']*100\n",
    "ca_race['black_hispanic_percent'] = ca_race['black_percent']+ca_race['hispanic_percent']\n",
    "\n",
    "ca_race = ca_race[['white_percent','black_percent','hispanic_percent','black_hispanic_percent']]\n",
    "ca_race.sample(3)"
   ]
  },
  {
   "cell_type": "code",
   "execution_count": 7,
   "metadata": {},
   "outputs": [
    {
     "data": {
      "text/html": [
       "<div>\n",
       "<style scoped>\n",
       "    .dataframe tbody tr th:only-of-type {\n",
       "        vertical-align: middle;\n",
       "    }\n",
       "\n",
       "    .dataframe tbody tr th {\n",
       "        vertical-align: top;\n",
       "    }\n",
       "\n",
       "    .dataframe thead th {\n",
       "        text-align: right;\n",
       "    }\n",
       "</style>\n",
       "<table border=\"1\" class=\"dataframe\">\n",
       "  <thead>\n",
       "    <tr style=\"text-align: right;\">\n",
       "      <th></th>\n",
       "      <th>reported_cases</th>\n",
       "      <th>reported_deaths</th>\n",
       "      <th>population</th>\n",
       "      <th>cases_percent</th>\n",
       "      <th>deaths_percent</th>\n",
       "      <th>uninsured_percent</th>\n",
       "      <th>white_percent</th>\n",
       "      <th>black_percent</th>\n",
       "      <th>hispanic_percent</th>\n",
       "      <th>black_hispanic_percent</th>\n",
       "    </tr>\n",
       "    <tr>\n",
       "      <th>key_0</th>\n",
       "      <th></th>\n",
       "      <th></th>\n",
       "      <th></th>\n",
       "      <th></th>\n",
       "      <th></th>\n",
       "      <th></th>\n",
       "      <th></th>\n",
       "      <th></th>\n",
       "      <th></th>\n",
       "      <th></th>\n",
       "    </tr>\n",
       "  </thead>\n",
       "  <tbody>\n",
       "    <tr>\n",
       "      <th>Plumas</th>\n",
       "      <td>670.0</td>\n",
       "      <td>4.0</td>\n",
       "      <td>18997.0</td>\n",
       "      <td>3.526873</td>\n",
       "      <td>0.021056</td>\n",
       "      <td>3.1</td>\n",
       "      <td>90.524805</td>\n",
       "      <td>1.074068</td>\n",
       "      <td>9.305046</td>\n",
       "      <td>10.379114</td>\n",
       "    </tr>\n",
       "    <tr>\n",
       "      <th>El Dorado</th>\n",
       "      <td>9773.0</td>\n",
       "      <td>106.0</td>\n",
       "      <td>193098.0</td>\n",
       "      <td>5.061161</td>\n",
       "      <td>0.054894</td>\n",
       "      <td>4.6</td>\n",
       "      <td>88.639982</td>\n",
       "      <td>1.037113</td>\n",
       "      <td>13.159928</td>\n",
       "      <td>14.197041</td>\n",
       "    </tr>\n",
       "    <tr>\n",
       "      <th>Tehama</th>\n",
       "      <td>4896.0</td>\n",
       "      <td>53.0</td>\n",
       "      <td>65885.0</td>\n",
       "      <td>7.431130</td>\n",
       "      <td>0.080443</td>\n",
       "      <td>6.3</td>\n",
       "      <td>90.247987</td>\n",
       "      <td>1.069387</td>\n",
       "      <td>25.775920</td>\n",
       "      <td>26.845308</td>\n",
       "    </tr>\n",
       "  </tbody>\n",
       "</table>\n",
       "</div>"
      ],
      "text/plain": [
       "           reported_cases  reported_deaths  population  cases_percent  \\\n",
       "key_0                                                                   \n",
       "Plumas              670.0              4.0     18997.0       3.526873   \n",
       "El Dorado          9773.0            106.0    193098.0       5.061161   \n",
       "Tehama             4896.0             53.0     65885.0       7.431130   \n",
       "\n",
       "           deaths_percent  uninsured_percent  white_percent  black_percent  \\\n",
       "key_0                                                                        \n",
       "Plumas           0.021056                3.1      90.524805       1.074068   \n",
       "El Dorado        0.054894                4.6      88.639982       1.037113   \n",
       "Tehama           0.080443                6.3      90.247987       1.069387   \n",
       "\n",
       "           hispanic_percent  black_hispanic_percent  \n",
       "key_0                                                \n",
       "Plumas             9.305046               10.379114  \n",
       "El Dorado         13.159928               14.197041  \n",
       "Tehama            25.775920               26.845308  "
      ]
     },
     "execution_count": 7,
     "metadata": {},
     "output_type": "execute_result"
    }
   ],
   "source": [
    "ca_cumulative = pd.merge(left=ca_cumulative, right=ca_race, left_on=ca_cumulative.index, right_on=ca_race.index)\n",
    "ca_cumulative.set_index('key_0',inplace=True)         # Set the county name column ('ker_0' after merge) as index\n",
    "ca_cumulative.sample(3)"
   ]
  },
  {
   "cell_type": "code",
   "execution_count": 8,
   "metadata": {},
   "outputs": [
    {
     "data": {
      "image/png": "[encoded data removed]",
      "text/plain": [
       "<Figure size 720x360 with 1 Axes>"
      ]
     },
     "metadata": {
      "needs_background": "light"
     },
     "output_type": "display_data"
    }
   ],
   "source": [
    "fig, ax = plt.subplots(figsize=(10,5)) \n",
    "\n",
    "\n",
    "sns.regplot(x='white_percent',                         # Percent of white population as independent variable\n",
    "            y= 'cases_percent',                        # Percent of cases as dependent variable\n",
    "            data = ca_cumulative,\n",
    "            ax = ax,\n",
    "            color = 'Blue',\n",
    "            dropna=True,\n",
    "            ci = 95)                           \n",
    "\n",
    "sns.despine(ax = ax)\n",
    "                            \n",
    "\n",
    "#ax.set_title('Covid case rate and white population by county in California')\n",
    "ax.set_xlabel('White population (%)')\n",
    "ax.set_ylabel('Case rate (%)')\n",
    "\n",
    "#plt.savefig('../whitepop_cases.svg')\n",
    "\n",
    "plt.show()"
   ]
  },
  {
   "cell_type": "code",
   "execution_count": 9,
   "metadata": {},
   "outputs": [
    {
     "data": {
      "image/png": "[encoded data removed]",
      "text/plain": [
       "<Figure size 720x360 with 1 Axes>"
      ]
     },
     "metadata": {
      "needs_background": "light"
     },
     "output_type": "display_data"
    }
   ],
   "source": [
    "fig, ax = plt.subplots(figsize=(10,5)) \n",
    "\n",
    "\n",
    "sns.regplot(x='white_percent',                       # Percent of white population as independent variable\n",
    "            y= 'deaths_percent',                     # Percent of death as independent variable\n",
    "            data = ca_cumulative,\n",
    "            ax = ax,\n",
    "            color = 'Blue',\n",
    "            dropna=True,\n",
    "            ci = 95)                           \n",
    "\n",
    "sns.despine(ax = ax)\n",
    "                            \n",
    "\n",
    "#ax.set_title('Covid death rate and white population by county in California')\n",
    "ax.set_xlabel('White population (%)')\n",
    "ax.set_ylabel('Death rate (%)')\n",
    "\n",
    "#plt.savefig('../whitepop_deaths.svg')\n",
    "\n",
    "plt.show()"
   ]
  },
  {
   "cell_type": "code",
   "execution_count": 10,
   "metadata": {},
   "outputs": [
    {
     "data": {
      "image/png": "[encoded data removed]",
      "text/plain": [
       "<Figure size 720x360 with 1 Axes>"
      ]
     },
     "metadata": {
      "needs_background": "light"
     },
     "output_type": "display_data"
    }
   ],
   "source": [
    "fig, ax = plt.subplots(figsize=(10,5)) \n",
    "\n",
    "\n",
    "sns.regplot(x='black_percent',                       # Percent of black population as independent variable\n",
    "            y= 'cases_percent',                      # Percent of cases as dependent variable\n",
    "            data = ca_cumulative,\n",
    "            ax = ax,\n",
    "            color = 'Brown',\n",
    "            dropna=True,\n",
    "            ci = 95)                           \n",
    "\n",
    "sns.despine(ax = ax)\n",
    "                            \n",
    "\n",
    "#ax.set_title('Covid case rate and black population by county in California')\n",
    "ax.set_xlabel('Black population (%)')\n",
    "ax.set_ylabel('Case rate (%)')\n",
    "\n",
    "#plt.savefig('../blackpop_cases.svg')\n",
    "\n",
    "plt.show()"
   ]
  },
  {
   "cell_type": "code",
   "execution_count": 11,
   "metadata": {},
   "outputs": [
    {
     "data": {
      "image/png": "[encoded data removed]",
      "text/plain": [
       "<Figure size 720x360 with 1 Axes>"
      ]
     },
     "metadata": {
      "needs_background": "light"
     },
     "output_type": "display_data"
    }
   ],
   "source": [
    "fig, ax = plt.subplots(figsize=(10,5)) \n",
    "\n",
    "\n",
    "sns.regplot(x='black_percent',                    # Percent of black population as independent variable\n",
    "            y= 'deaths_percent',                  # Percent of death as dependent variable\n",
    "            data = ca_cumulative,\n",
    "            ax = ax,\n",
    "            color = 'Brown',\n",
    "            dropna=True,\n",
    "            ci = 95)                           \n",
    "\n",
    "sns.despine(ax = ax)\n",
    "                            \n",
    "\n",
    "#ax.set_title('Covid death rate and black population by county in California')\n",
    "ax.set_xlabel('Black population (%)')\n",
    "ax.set_ylabel('Death rate (%)')\n",
    "\n",
    "#plt.savefig('../blackpop_deaths.svg')\n",
    "\n",
    "plt.show()"
   ]
  },
  {
   "cell_type": "code",
   "execution_count": 12,
   "metadata": {},
   "outputs": [
    {
     "data": {
      "image/png": "[encoded data removed]",
      "text/plain": [
       "<Figure size 720x360 with 1 Axes>"
      ]
     },
     "metadata": {
      "needs_background": "light"
     },
     "output_type": "display_data"
    }
   ],
   "source": [
    "fig, ax = plt.subplots(figsize=(10,5)) \n",
    "\n",
    "\n",
    "sns.regplot(x='hispanic_percent',                  # Percent of hispanic population as independent variable\n",
    "            y= 'cases_percent',                    # Percent of cases as dependent variable\n",
    "            data = ca_cumulative,\n",
    "            ax = ax,\n",
    "            color = 'Red',\n",
    "            dropna=True,\n",
    "            ci = 95)                           \n",
    "\n",
    "sns.despine(ax = ax)\n",
    "                            \n",
    "\n",
    "#ax.set_title('Covid case rate and hispanic population by county in California')\n",
    "ax.set_xlabel('Hispanic population (%)')\n",
    "ax.set_ylabel('Case rate (%)')\n",
    "\n",
    "#plt.savefig('../hispop_cases.svg')\n",
    "\n",
    "plt.show()"
   ]
  },
  {
   "cell_type": "code",
   "execution_count": 13,
   "metadata": {},
   "outputs": [
    {
     "data": {
      "image/png": "[encoded data removed]",
      "text/plain": [
       "<Figure size 720x360 with 1 Axes>"
      ]
     },
     "metadata": {
      "needs_background": "light"
     },
     "output_type": "display_data"
    }
   ],
   "source": [
    "fig, ax = plt.subplots(figsize=(10,5)) \n",
    "\n",
    "\n",
    "sns.regplot(x='hispanic_percent',                 # Percent of hispanic population as independent variable\n",
    "            y= 'deaths_percent',                  # Percent of death as dependent variable\n",
    "            data = ca_cumulative,\n",
    "            ax = ax,\n",
    "            color = 'Red',\n",
    "            dropna=True,\n",
    "            ci = 95)                           \n",
    "\n",
    "sns.despine(ax = ax)\n",
    "                            \n",
    "\n",
    "#ax.set_title('Covid death rate and hispanic population by county in California')\n",
    "ax.set_xlabel('Hispanic population (%)')\n",
    "ax.set_ylabel('Death rate (%)')\n",
    "\n",
    "#plt.savefig('../hispop_deaths.svg')\n",
    "\n",
    "plt.show()"
   ]
  },
  {
   "cell_type": "markdown",
   "metadata": {},
   "source": [
    "## Regression Analysis ##"
   ]
  },
  {
   "cell_type": "code",
   "execution_count": 22,
   "metadata": {},
   "outputs": [
    {
     "name": "stdout",
     "output_type": "stream",
     "text": [
      "                            OLS Regression Results                            \n",
      "==============================================================================\n",
      "Dep. Variable:          cases_percent   R-squared:                       0.593\n",
      "Model:                            OLS   Adj. R-squared:                  0.562\n",
      "Method:                 Least Squares   F-statistic:                     19.28\n",
      "Date:                Wed, 28 Apr 2021   Prob (F-statistic):           7.67e-10\n",
      "Time:                        19:31:09   Log-Likelihood:                -122.76\n",
      "No. Observations:                  58   AIC:                             255.5\n",
      "Df Residuals:                      53   BIC:                             265.8\n",
      "Df Model:                           4                                         \n",
      "Covariance Type:            nonrobust                                         \n",
      "=====================================================================================\n",
      "                        coef    std err          t      P>|t|      [0.025      0.975]\n",
      "-------------------------------------------------------------------------------------\n",
      "Intercept            -2.5989      3.047     -0.853      0.398      -8.710       3.512\n",
      "uninsured_percent    -0.0134      0.134     -0.100      0.921      -0.282       0.255\n",
      "white_percent         0.0663      0.035      1.883      0.065      -0.004       0.137\n",
      "black_percent         0.3887      0.123      3.150      0.003       0.141       0.636\n",
      "hispanic_percent      0.1069      0.018      6.059      0.000       0.071       0.142\n",
      "==============================================================================\n",
      "Omnibus:                       35.472   Durbin-Watson:                   1.920\n",
      "Prob(Omnibus):                  0.000   Jarque-Bera (JB):              103.175\n",
      "Skew:                           1.748   Prob(JB):                     3.94e-23\n",
      "Kurtosis:                       8.520   Cond. No.                         968.\n",
      "==============================================================================\n",
      "\n",
      "Notes:\n",
      "[1] Standard Errors assume that the covariance matrix of the errors is correctly specified.\n"
     ]
    }
   ],
   "source": [
    "# Since black_hispanic_percent and white_percent have strong linear relationship \n",
    "# with black_percent and hispanic_percent, in order to avoid severe multicollinearity\n",
    "# we exclude black_hispanic_percent and white_percent from the independent variables.\n",
    "case_result = smf.ols('cases_percent ~ uninsured_percent + white_percent + black_percent + hispanic_percent', data=ca_cumulative).fit()\n",
    "print(case_result.summary())"
   ]
  },
  {
   "cell_type": "code",
   "execution_count": 23,
   "metadata": {
    "scrolled": true
   },
   "outputs": [
    {
     "name": "stdout",
     "output_type": "stream",
     "text": [
      "                            OLS Regression Results                            \n",
      "==============================================================================\n",
      "Dep. Variable:         deaths_percent   R-squared:                       0.520\n",
      "Model:                            OLS   Adj. R-squared:                  0.484\n",
      "Method:                 Least Squares   F-statistic:                     14.36\n",
      "Date:                Wed, 28 Apr 2021   Prob (F-statistic):           5.26e-08\n",
      "Time:                        19:31:12   Log-Likelihood:                 97.487\n",
      "No. Observations:                  58   AIC:                            -185.0\n",
      "Df Residuals:                      53   BIC:                            -174.7\n",
      "Df Model:                           4                                         \n",
      "Covariance Type:            nonrobust                                         \n",
      "=====================================================================================\n",
      "                        coef    std err          t      P>|t|      [0.025      0.975]\n",
      "-------------------------------------------------------------------------------------\n",
      "Intercept             0.0158      0.068      0.231      0.818      -0.121       0.153\n",
      "uninsured_percent    -0.0055      0.003     -1.831      0.073      -0.012       0.001\n",
      "white_percent         0.0003      0.001      0.431      0.669      -0.001       0.002\n",
      "black_percent         0.0017      0.003      0.603      0.549      -0.004       0.007\n",
      "hispanic_percent      0.0027      0.000      6.730      0.000       0.002       0.003\n",
      "==============================================================================\n",
      "Omnibus:                        8.871   Durbin-Watson:                   1.941\n",
      "Prob(Omnibus):                  0.012   Jarque-Bera (JB):                8.511\n",
      "Skew:                           0.750   Prob(JB):                       0.0142\n",
      "Kurtosis:                       4.127   Cond. No.                         968.\n",
      "==============================================================================\n",
      "\n",
      "Notes:\n",
      "[1] Standard Errors assume that the covariance matrix of the errors is correctly specified.\n"
     ]
    }
   ],
   "source": [
    "death_result = smf.ols('deaths_percent ~ uninsured_percent + white_percent + black_percent + hispanic_percent', data=ca_cumulative).fit()\n",
    "print(death_result.summary())"
   ]
  },
  {
   "cell_type": "code",
   "execution_count": 21,
   "metadata": {},
   "outputs": [
    {
     "data": {
      "text/html": [
       "<style  type=\"text/css\" >\n",
       "#T_30fba07c_a881_11eb_ba0f_003f7080ffc4row0_col0,#T_30fba07c_a881_11eb_ba0f_003f7080ffc4row1_col1,#T_30fba07c_a881_11eb_ba0f_003f7080ffc4row2_col2,#T_30fba07c_a881_11eb_ba0f_003f7080ffc4row3_col3,#T_30fba07c_a881_11eb_ba0f_003f7080ffc4row4_col4,#T_30fba07c_a881_11eb_ba0f_003f7080ffc4row5_col5{\n",
       "            background-color:  #b40426;\n",
       "            color:  #f1f1f1;\n",
       "        }#T_30fba07c_a881_11eb_ba0f_003f7080ffc4row0_col1{\n",
       "            background-color:  #9abbff;\n",
       "            color:  #000000;\n",
       "        }#T_30fba07c_a881_11eb_ba0f_003f7080ffc4row0_col2{\n",
       "            background-color:  #abc8fd;\n",
       "            color:  #000000;\n",
       "        }#T_30fba07c_a881_11eb_ba0f_003f7080ffc4row0_col3{\n",
       "            background-color:  #edd2c3;\n",
       "            color:  #000000;\n",
       "        }#T_30fba07c_a881_11eb_ba0f_003f7080ffc4row0_col4{\n",
       "            background-color:  #81a4fb;\n",
       "            color:  #000000;\n",
       "        }#T_30fba07c_a881_11eb_ba0f_003f7080ffc4row0_col5{\n",
       "            background-color:  #5977e3;\n",
       "            color:  #000000;\n",
       "        }#T_30fba07c_a881_11eb_ba0f_003f7080ffc4row1_col0,#T_30fba07c_a881_11eb_ba0f_003f7080ffc4row1_col3,#T_30fba07c_a881_11eb_ba0f_003f7080ffc4row3_col1,#T_30fba07c_a881_11eb_ba0f_003f7080ffc4row3_col2,#T_30fba07c_a881_11eb_ba0f_003f7080ffc4row3_col4,#T_30fba07c_a881_11eb_ba0f_003f7080ffc4row3_col5{\n",
       "            background-color:  #3b4cc0;\n",
       "            color:  #f1f1f1;\n",
       "        }#T_30fba07c_a881_11eb_ba0f_003f7080ffc4row1_col2{\n",
       "            background-color:  #86a9fc;\n",
       "            color:  #000000;\n",
       "        }#T_30fba07c_a881_11eb_ba0f_003f7080ffc4row1_col4,#T_30fba07c_a881_11eb_ba0f_003f7080ffc4row2_col3{\n",
       "            background-color:  #c3d5f4;\n",
       "            color:  #000000;\n",
       "        }#T_30fba07c_a881_11eb_ba0f_003f7080ffc4row1_col5{\n",
       "            background-color:  #9bbcff;\n",
       "            color:  #000000;\n",
       "        }#T_30fba07c_a881_11eb_ba0f_003f7080ffc4row2_col0{\n",
       "            background-color:  #cfdaea;\n",
       "            color:  #000000;\n",
       "        }#T_30fba07c_a881_11eb_ba0f_003f7080ffc4row2_col1{\n",
       "            background-color:  #e8d6cc;\n",
       "            color:  #000000;\n",
       "        }#T_30fba07c_a881_11eb_ba0f_003f7080ffc4row2_col4{\n",
       "            background-color:  #f6a586;\n",
       "            color:  #000000;\n",
       "        }#T_30fba07c_a881_11eb_ba0f_003f7080ffc4row2_col5{\n",
       "            background-color:  #f7ac8e;\n",
       "            color:  #000000;\n",
       "        }#T_30fba07c_a881_11eb_ba0f_003f7080ffc4row3_col0{\n",
       "            background-color:  #bfd3f6;\n",
       "            color:  #000000;\n",
       "        }#T_30fba07c_a881_11eb_ba0f_003f7080ffc4row4_col0{\n",
       "            background-color:  #a7c5fe;\n",
       "            color:  #000000;\n",
       "        }#T_30fba07c_a881_11eb_ba0f_003f7080ffc4row4_col1{\n",
       "            background-color:  #f5c1a9;\n",
       "            color:  #000000;\n",
       "        }#T_30fba07c_a881_11eb_ba0f_003f7080ffc4row4_col2{\n",
       "            background-color:  #f7a98b;\n",
       "            color:  #000000;\n",
       "        }#T_30fba07c_a881_11eb_ba0f_003f7080ffc4row4_col3{\n",
       "            background-color:  #bbd1f8;\n",
       "            color:  #000000;\n",
       "        }#T_30fba07c_a881_11eb_ba0f_003f7080ffc4row4_col5{\n",
       "            background-color:  #f5c0a7;\n",
       "            color:  #000000;\n",
       "        }#T_30fba07c_a881_11eb_ba0f_003f7080ffc4row5_col0{\n",
       "            background-color:  #7da0f9;\n",
       "            color:  #000000;\n",
       "        }#T_30fba07c_a881_11eb_ba0f_003f7080ffc4row5_col1{\n",
       "            background-color:  #ead5c9;\n",
       "            color:  #000000;\n",
       "        }#T_30fba07c_a881_11eb_ba0f_003f7080ffc4row5_col2{\n",
       "            background-color:  #f7b194;\n",
       "            color:  #000000;\n",
       "        }#T_30fba07c_a881_11eb_ba0f_003f7080ffc4row5_col3{\n",
       "            background-color:  #b7cff9;\n",
       "            color:  #000000;\n",
       "        }#T_30fba07c_a881_11eb_ba0f_003f7080ffc4row5_col4{\n",
       "            background-color:  #f5c2aa;\n",
       "            color:  #000000;\n",
       "        }</style><table id=\"T_30fba07c_a881_11eb_ba0f_003f7080ffc4\" ><thead>    <tr>        <th class=\"blank level0\" ></th>        <th class=\"col_heading level0 col0\" >Uninsured Rate</th>        <th class=\"col_heading level0 col1\" >Black</th>        <th class=\"col_heading level0 col2\" >Hispanic</th>        <th class=\"col_heading level0 col3\" >White</th>        <th class=\"col_heading level0 col4\" >Case Rate</th>        <th class=\"col_heading level0 col5\" >Death Rate</th>    </tr></thead><tbody>\n",
       "                <tr>\n",
       "                        <th id=\"T_30fba07c_a881_11eb_ba0f_003f7080ffc4level0_row0\" class=\"row_heading level0 row0\" >Uninsured Rate</th>\n",
       "                        <td id=\"T_30fba07c_a881_11eb_ba0f_003f7080ffc4row0_col0\" class=\"data row0 col0\" >1.000000</td>\n",
       "                        <td id=\"T_30fba07c_a881_11eb_ba0f_003f7080ffc4row0_col1\" class=\"data row0 col1\" >-0.171511</td>\n",
       "                        <td id=\"T_30fba07c_a881_11eb_ba0f_003f7080ffc4row0_col2\" class=\"data row0 col2\" >0.357524</td>\n",
       "                        <td id=\"T_30fba07c_a881_11eb_ba0f_003f7080ffc4row0_col3\" class=\"data row0 col3\" >0.292950</td>\n",
       "                        <td id=\"T_30fba07c_a881_11eb_ba0f_003f7080ffc4row0_col4\" class=\"data row0 col4\" >0.209467</td>\n",
       "                        <td id=\"T_30fba07c_a881_11eb_ba0f_003f7080ffc4row0_col5\" class=\"data row0 col5\" >0.070482</td>\n",
       "            </tr>\n",
       "            <tr>\n",
       "                        <th id=\"T_30fba07c_a881_11eb_ba0f_003f7080ffc4level0_row1\" class=\"row_heading level0 row1\" >Black</th>\n",
       "                        <td id=\"T_30fba07c_a881_11eb_ba0f_003f7080ffc4row1_col0\" class=\"data row1 col0\" >-0.171511</td>\n",
       "                        <td id=\"T_30fba07c_a881_11eb_ba0f_003f7080ffc4row1_col1\" class=\"data row1 col1\" >1.000000</td>\n",
       "                        <td id=\"T_30fba07c_a881_11eb_ba0f_003f7080ffc4row1_col2\" class=\"data row1 col2\" >0.253861</td>\n",
       "                        <td id=\"T_30fba07c_a881_11eb_ba0f_003f7080ffc4row1_col3\" class=\"data row1 col3\" >-0.643808</td>\n",
       "                        <td id=\"T_30fba07c_a881_11eb_ba0f_003f7080ffc4row1_col4\" class=\"data row1 col4\" >0.401427</td>\n",
       "                        <td id=\"T_30fba07c_a881_11eb_ba0f_003f7080ffc4row1_col5\" class=\"data row1 col5\" >0.266818</td>\n",
       "            </tr>\n",
       "            <tr>\n",
       "                        <th id=\"T_30fba07c_a881_11eb_ba0f_003f7080ffc4level0_row2\" class=\"row_heading level0 row2\" >Hispanic</th>\n",
       "                        <td id=\"T_30fba07c_a881_11eb_ba0f_003f7080ffc4row2_col0\" class=\"data row2 col0\" >0.357524</td>\n",
       "                        <td id=\"T_30fba07c_a881_11eb_ba0f_003f7080ffc4row2_col1\" class=\"data row2 col1\" >0.253861</td>\n",
       "                        <td id=\"T_30fba07c_a881_11eb_ba0f_003f7080ffc4row2_col2\" class=\"data row2 col2\" >1.000000</td>\n",
       "                        <td id=\"T_30fba07c_a881_11eb_ba0f_003f7080ffc4row2_col3\" class=\"data row2 col3\" >0.028132</td>\n",
       "                        <td id=\"T_30fba07c_a881_11eb_ba0f_003f7080ffc4row2_col4\" class=\"data row2 col4\" >0.716748</td>\n",
       "                        <td id=\"T_30fba07c_a881_11eb_ba0f_003f7080ffc4row2_col5\" class=\"data row2 col5\" >0.693314</td>\n",
       "            </tr>\n",
       "            <tr>\n",
       "                        <th id=\"T_30fba07c_a881_11eb_ba0f_003f7080ffc4level0_row3\" class=\"row_heading level0 row3\" >White</th>\n",
       "                        <td id=\"T_30fba07c_a881_11eb_ba0f_003f7080ffc4row3_col0\" class=\"data row3 col0\" >0.292950</td>\n",
       "                        <td id=\"T_30fba07c_a881_11eb_ba0f_003f7080ffc4row3_col1\" class=\"data row3 col1\" >-0.643808</td>\n",
       "                        <td id=\"T_30fba07c_a881_11eb_ba0f_003f7080ffc4row3_col2\" class=\"data row3 col2\" >0.028132</td>\n",
       "                        <td id=\"T_30fba07c_a881_11eb_ba0f_003f7080ffc4row3_col3\" class=\"data row3 col3\" >1.000000</td>\n",
       "                        <td id=\"T_30fba07c_a881_11eb_ba0f_003f7080ffc4row3_col4\" class=\"data row3 col4\" >-0.010106</td>\n",
       "                        <td id=\"T_30fba07c_a881_11eb_ba0f_003f7080ffc4row3_col5\" class=\"data row3 col5\" >-0.032857</td>\n",
       "            </tr>\n",
       "            <tr>\n",
       "                        <th id=\"T_30fba07c_a881_11eb_ba0f_003f7080ffc4level0_row4\" class=\"row_heading level0 row4\" >Case Rate</th>\n",
       "                        <td id=\"T_30fba07c_a881_11eb_ba0f_003f7080ffc4row4_col0\" class=\"data row4 col0\" >0.209467</td>\n",
       "                        <td id=\"T_30fba07c_a881_11eb_ba0f_003f7080ffc4row4_col1\" class=\"data row4 col1\" >0.401427</td>\n",
       "                        <td id=\"T_30fba07c_a881_11eb_ba0f_003f7080ffc4row4_col2\" class=\"data row4 col2\" >0.716748</td>\n",
       "                        <td id=\"T_30fba07c_a881_11eb_ba0f_003f7080ffc4row4_col3\" class=\"data row4 col3\" >-0.010106</td>\n",
       "                        <td id=\"T_30fba07c_a881_11eb_ba0f_003f7080ffc4row4_col4\" class=\"data row4 col4\" >1.000000</td>\n",
       "                        <td id=\"T_30fba07c_a881_11eb_ba0f_003f7080ffc4row4_col5\" class=\"data row4 col5\" >0.625707</td>\n",
       "            </tr>\n",
       "            <tr>\n",
       "                        <th id=\"T_30fba07c_a881_11eb_ba0f_003f7080ffc4level0_row5\" class=\"row_heading level0 row5\" >Death Rate</th>\n",
       "                        <td id=\"T_30fba07c_a881_11eb_ba0f_003f7080ffc4row5_col0\" class=\"data row5 col0\" >0.070482</td>\n",
       "                        <td id=\"T_30fba07c_a881_11eb_ba0f_003f7080ffc4row5_col1\" class=\"data row5 col1\" >0.266818</td>\n",
       "                        <td id=\"T_30fba07c_a881_11eb_ba0f_003f7080ffc4row5_col2\" class=\"data row5 col2\" >0.693314</td>\n",
       "                        <td id=\"T_30fba07c_a881_11eb_ba0f_003f7080ffc4row5_col3\" class=\"data row5 col3\" >-0.032857</td>\n",
       "                        <td id=\"T_30fba07c_a881_11eb_ba0f_003f7080ffc4row5_col4\" class=\"data row5 col4\" >0.625707</td>\n",
       "                        <td id=\"T_30fba07c_a881_11eb_ba0f_003f7080ffc4row5_col5\" class=\"data row5 col5\" >1.000000</td>\n",
       "            </tr>\n",
       "    </tbody></table>"
      ],
      "text/plain": [
       "<pandas.io.formats.style.Styler at 0x289178afd00>"
      ]
     },
     "execution_count": 21,
     "metadata": {},
     "output_type": "execute_result"
    }
   ],
   "source": [
    "corr = ca_cumulative[['uninsured_percent','black_percent','hispanic_percent', 'white_percent', 'cases_percent', 'deaths_percent']].corr()\n",
    "corr.rename(columns={'uninsured_percent':'Uninsured Rate', 'black_percent':'Black', 'hispanic_percent':'Hispanic', 'white_percent':'White',\n",
    "                             'cases_percent':'Case Rate', 'deaths_percent':'Death Rate'}, inplace=True)\n",
    "corr.rename(index={'uninsured_percent':'Uninsured Rate', 'black_percent':'Black', 'hispanic_percent':'Hispanic', 'white_percent':'White',\n",
    "                             'cases_percent':'Case Rate', 'deaths_percent':'Death Rate'}, inplace=True)\n",
    "corr.style.background_gradient(cmap='coolwarm')\n",
    "# Consider the issue of multicollinearity"
   ]
  }
 ],
 "metadata": {
  "kernelspec": {
   "display_name": "Python 3",
   "language": "python",
   "name": "python3"
  },
  "language_info": {
   "codemirror_mode": {
    "name": "ipython",
    "version": 3
   },
   "file_extension": ".py",
   "mimetype": "text/x-python",
   "name": "python",
   "nbconvert_exporter": "python",
   "pygments_lexer": "ipython3",
   "version": "3.8.5"
  }
 },
 "nbformat": 4,
 "nbformat_minor": 2
}

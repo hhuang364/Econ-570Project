{
 "cells": [
  {
   "cell_type": "markdown",
   "metadata": {},
   "source": [
    "data file sources:\n",
    "\n",
    "CDC Covid Data Tracker (Demographics): https://covid.cdc.gov/covid-data-tracker/#demographics\n",
    "1. cases_by_race_ethnicity__18_-_29_years.csv\n",
    "2. deaths_by_race_ethnicity__18_-_29_years.csv\n",
    "3. cases_by_race_ethnicity__all_age_groups.csv\n",
    "\n",
    "CDC Covid Data Tracker (Vaccination Demographics): https://covid.cdc.gov/covid-data-tracker/#vaccination-demographic\n",
    "1. race_ethnicity_of_people_with_at_least_one_dose_administered.csv\n",
    "\n",
    "COVID-19 Time-Series Metrics by County and State (California Health and Human Services): https://data.chhs.ca.gov/dataset/covid-19-time-series-metrics-by-county-and-state\n",
    "1. covid19casesdemographics.csv"
   ]
  },
  {
   "cell_type": "code",
   "execution_count": 1,
   "metadata": {},
   "outputs": [],
   "source": [
    "import pandas as pd\n",
    "import matplotlib.pyplot as plt  \n",
    "import seaborn as sns\n",
    "import numpy as np\n",
    "import datetime as dt"
   ]
  },
  {
   "cell_type": "code",
   "execution_count": 2,
   "metadata": {
    "scrolled": true
   },
   "outputs": [],
   "source": [
    "cases_18_29 = pd.read_csv('data_files/cases_by_race_ethnicity__18_-_29_years.csv', header=2, index_col=0)\n",
    "death_18_29 = pd.read_csv('data_files/deaths_by_race_ethnicity__18_-_29_years.csv', header=2, index_col=0)"
   ]
  },
  {
   "cell_type": "code",
   "execution_count": 3,
   "metadata": {
    "scrolled": true
   },
   "outputs": [],
   "source": [
    "cases_18_29 = cases_18_29.sort_index(ascending=True)\n",
    "death_18_29 = death_18_29.sort_index(ascending=True)"
   ]
  },
  {
   "cell_type": "code",
   "execution_count": 4,
   "metadata": {},
   "outputs": [],
   "source": [
    "code = ['American Indian or Alaska Native','Asian','Black','Latino','Multi-Race','Native Hawaiian and other Pacific Islander','White']\n",
    "cases_18_29.index = code\n",
    "death_18_29.index = code"
   ]
  },
  {
   "cell_type": "code",
   "execution_count": 5,
   "metadata": {},
   "outputs": [
    {
     "data": {
      "text/html": [
       "<div>\n",
       "<style scoped>\n",
       "    .dataframe tbody tr th:only-of-type {\n",
       "        vertical-align: middle;\n",
       "    }\n",
       "\n",
       "    .dataframe tbody tr th {\n",
       "        vertical-align: top;\n",
       "    }\n",
       "\n",
       "    .dataframe thead th {\n",
       "        text-align: right;\n",
       "    }\n",
       "</style>\n",
       "<table border=\"1\" class=\"dataframe\">\n",
       "  <thead>\n",
       "    <tr style=\"text-align: right;\">\n",
       "      <th></th>\n",
       "      <th>Percent of cases</th>\n",
       "      <th>Percent of US population</th>\n",
       "      <th>Percentage of deaths</th>\n",
       "    </tr>\n",
       "  </thead>\n",
       "  <tbody>\n",
       "    <tr>\n",
       "      <th>American Indian or Alaska Native</th>\n",
       "      <td>1.0</td>\n",
       "      <td>0.85</td>\n",
       "      <td>2.5</td>\n",
       "    </tr>\n",
       "    <tr>\n",
       "      <th>Asian</th>\n",
       "      <td>3.4</td>\n",
       "      <td>6.11</td>\n",
       "      <td>2.7</td>\n",
       "    </tr>\n",
       "    <tr>\n",
       "      <th>Black</th>\n",
       "      <td>10.5</td>\n",
       "      <td>14.44</td>\n",
       "      <td>24.4</td>\n",
       "    </tr>\n",
       "    <tr>\n",
       "      <th>Latino</th>\n",
       "      <td>32.9</td>\n",
       "      <td>21.96</td>\n",
       "      <td>38.4</td>\n",
       "    </tr>\n",
       "    <tr>\n",
       "      <th>Multi-Race</th>\n",
       "      <td>5.6</td>\n",
       "      <td>2.89</td>\n",
       "      <td>4.4</td>\n",
       "    </tr>\n",
       "    <tr>\n",
       "      <th>Native Hawaiian and other Pacific Islander</th>\n",
       "      <td>0.3</td>\n",
       "      <td>0.21</td>\n",
       "      <td>0.6</td>\n",
       "    </tr>\n",
       "    <tr>\n",
       "      <th>White</th>\n",
       "      <td>46.3</td>\n",
       "      <td>53.54</td>\n",
       "      <td>26.9</td>\n",
       "    </tr>\n",
       "  </tbody>\n",
       "</table>\n",
       "</div>"
      ],
      "text/plain": [
       "                                            Percent of cases  \\\n",
       "American Indian or Alaska Native                         1.0   \n",
       "Asian                                                    3.4   \n",
       "Black                                                   10.5   \n",
       "Latino                                                  32.9   \n",
       "Multi-Race                                               5.6   \n",
       "Native Hawaiian and other Pacific Islander               0.3   \n",
       "White                                                   46.3   \n",
       "\n",
       "                                            Percent of US population  \\\n",
       "American Indian or Alaska Native                                0.85   \n",
       "Asian                                                           6.11   \n",
       "Black                                                          14.44   \n",
       "Latino                                                         21.96   \n",
       "Multi-Race                                                      2.89   \n",
       "Native Hawaiian and other Pacific Islander                      0.21   \n",
       "White                                                          53.54   \n",
       "\n",
       "                                            Percentage of deaths  \n",
       "American Indian or Alaska Native                             2.5  \n",
       "Asian                                                        2.7  \n",
       "Black                                                       24.4  \n",
       "Latino                                                      38.4  \n",
       "Multi-Race                                                   4.4  \n",
       "Native Hawaiian and other Pacific Islander                   0.6  \n",
       "White                                                       26.9  "
      ]
     },
     "execution_count": 5,
     "metadata": {},
     "output_type": "execute_result"
    }
   ],
   "source": [
    "cases_death = pd.merge(left = cases_18_29, right = death_18_29, on='Percent of US population')\n",
    "cases_death.index = code\n",
    "cases_death"
   ]
  },
  {
   "cell_type": "code",
   "execution_count": 6,
   "metadata": {},
   "outputs": [
    {
     "data": {
      "text/plain": [
       "Timestamp('2021-04-14 00:00:00')"
      ]
     },
     "execution_count": 6,
     "metadata": {},
     "output_type": "execute_result"
    }
   ],
   "source": [
    "ca = pd.read_csv('data_files/covid19casesdemographics.csv')\n",
    "ca['report_date'] = pd.to_datetime(ca['report_date'])\n",
    "newest_date = max(ca['report_date'])\n",
    "newest_date"
   ]
  },
  {
   "cell_type": "code",
   "execution_count": 7,
   "metadata": {},
   "outputs": [
    {
     "data": {
      "text/html": [
       "<div>\n",
       "<style scoped>\n",
       "    .dataframe tbody tr th:only-of-type {\n",
       "        vertical-align: middle;\n",
       "    }\n",
       "\n",
       "    .dataframe tbody tr th {\n",
       "        vertical-align: top;\n",
       "    }\n",
       "\n",
       "    .dataframe thead th {\n",
       "        text-align: right;\n",
       "    }\n",
       "</style>\n",
       "<table border=\"1\" class=\"dataframe\">\n",
       "  <thead>\n",
       "    <tr style=\"text-align: right;\">\n",
       "      <th></th>\n",
       "      <th>demographic_category</th>\n",
       "      <th>demographic_value</th>\n",
       "      <th>total_cases</th>\n",
       "      <th>percent_cases</th>\n",
       "      <th>deaths</th>\n",
       "      <th>percent_deaths</th>\n",
       "      <th>percent_of_ca_population</th>\n",
       "      <th>report_date</th>\n",
       "    </tr>\n",
       "  </thead>\n",
       "  <tbody>\n",
       "    <tr>\n",
       "      <th>3946</th>\n",
       "      <td>Race Ethnicity</td>\n",
       "      <td>American Indian or Alaska Native</td>\n",
       "      <td>9730</td>\n",
       "      <td>0.3</td>\n",
       "      <td>215</td>\n",
       "      <td>0.4</td>\n",
       "      <td>0.5</td>\n",
       "      <td>2021-04-14</td>\n",
       "    </tr>\n",
       "    <tr>\n",
       "      <th>4313</th>\n",
       "      <td>Race Ethnicity</td>\n",
       "      <td>Asian</td>\n",
       "      <td>197722</td>\n",
       "      <td>6.9</td>\n",
       "      <td>7092</td>\n",
       "      <td>12.1</td>\n",
       "      <td>15.4</td>\n",
       "      <td>2021-04-14</td>\n",
       "    </tr>\n",
       "    <tr>\n",
       "      <th>4680</th>\n",
       "      <td>Race Ethnicity</td>\n",
       "      <td>Black</td>\n",
       "      <td>118986</td>\n",
       "      <td>4.2</td>\n",
       "      <td>3702</td>\n",
       "      <td>6.3</td>\n",
       "      <td>6.0</td>\n",
       "      <td>2021-04-14</td>\n",
       "    </tr>\n",
       "    <tr>\n",
       "      <th>5047</th>\n",
       "      <td>Race Ethnicity</td>\n",
       "      <td>Latino</td>\n",
       "      <td>1591357</td>\n",
       "      <td>55.6</td>\n",
       "      <td>27452</td>\n",
       "      <td>46.8</td>\n",
       "      <td>38.9</td>\n",
       "      <td>2021-04-14</td>\n",
       "    </tr>\n",
       "    <tr>\n",
       "      <th>5414</th>\n",
       "      <td>Race Ethnicity</td>\n",
       "      <td>Multi-Race</td>\n",
       "      <td>48387</td>\n",
       "      <td>1.7</td>\n",
       "      <td>763</td>\n",
       "      <td>1.3</td>\n",
       "      <td>2.2</td>\n",
       "      <td>2021-04-14</td>\n",
       "    </tr>\n",
       "    <tr>\n",
       "      <th>5781</th>\n",
       "      <td>Race Ethnicity</td>\n",
       "      <td>Native Hawaiian and other Pacific Islander</td>\n",
       "      <td>15964</td>\n",
       "      <td>0.6</td>\n",
       "      <td>315</td>\n",
       "      <td>0.5</td>\n",
       "      <td>0.3</td>\n",
       "      <td>2021-04-14</td>\n",
       "    </tr>\n",
       "    <tr>\n",
       "      <th>6148</th>\n",
       "      <td>Race Ethnicity</td>\n",
       "      <td>Other</td>\n",
       "      <td>299537</td>\n",
       "      <td>10.5</td>\n",
       "      <td>801</td>\n",
       "      <td>1.4</td>\n",
       "      <td>0.0</td>\n",
       "      <td>2021-04-14</td>\n",
       "    </tr>\n",
       "    <tr>\n",
       "      <th>6515</th>\n",
       "      <td>Race Ethnicity</td>\n",
       "      <td>Total</td>\n",
       "      <td>2861737</td>\n",
       "      <td>100.0</td>\n",
       "      <td>58657</td>\n",
       "      <td>100.0</td>\n",
       "      <td>100.0</td>\n",
       "      <td>2021-04-14</td>\n",
       "    </tr>\n",
       "    <tr>\n",
       "      <th>6882</th>\n",
       "      <td>Race Ethnicity</td>\n",
       "      <td>White</td>\n",
       "      <td>580054</td>\n",
       "      <td>20.3</td>\n",
       "      <td>18317</td>\n",
       "      <td>31.2</td>\n",
       "      <td>36.6</td>\n",
       "      <td>2021-04-14</td>\n",
       "    </tr>\n",
       "  </tbody>\n",
       "</table>\n",
       "</div>"
      ],
      "text/plain": [
       "     demographic_category                           demographic_value  \\\n",
       "3946       Race Ethnicity            American Indian or Alaska Native   \n",
       "4313       Race Ethnicity                                       Asian   \n",
       "4680       Race Ethnicity                                       Black   \n",
       "5047       Race Ethnicity                                      Latino   \n",
       "5414       Race Ethnicity                                  Multi-Race   \n",
       "5781       Race Ethnicity  Native Hawaiian and other Pacific Islander   \n",
       "6148       Race Ethnicity                                       Other   \n",
       "6515       Race Ethnicity                                       Total   \n",
       "6882       Race Ethnicity                                       White   \n",
       "\n",
       "      total_cases  percent_cases  deaths  percent_deaths  \\\n",
       "3946         9730            0.3     215             0.4   \n",
       "4313       197722            6.9    7092            12.1   \n",
       "4680       118986            4.2    3702             6.3   \n",
       "5047      1591357           55.6   27452            46.8   \n",
       "5414        48387            1.7     763             1.3   \n",
       "5781        15964            0.6     315             0.5   \n",
       "6148       299537           10.5     801             1.4   \n",
       "6515      2861737          100.0   58657           100.0   \n",
       "6882       580054           20.3   18317            31.2   \n",
       "\n",
       "      percent_of_ca_population report_date  \n",
       "3946                       0.5  2021-04-14  \n",
       "4313                      15.4  2021-04-14  \n",
       "4680                       6.0  2021-04-14  \n",
       "5047                      38.9  2021-04-14  \n",
       "5414                       2.2  2021-04-14  \n",
       "5781                       0.3  2021-04-14  \n",
       "6148                       0.0  2021-04-14  \n",
       "6515                     100.0  2021-04-14  \n",
       "6882                      36.6  2021-04-14  "
      ]
     },
     "execution_count": 7,
     "metadata": {},
     "output_type": "execute_result"
    }
   ],
   "source": [
    "ca = ca[(ca['demographic_category']=='Race Ethnicity')&(ca['report_date']==newest_date)]\n",
    "ca"
   ]
  },
  {
   "cell_type": "code",
   "execution_count": 8,
   "metadata": {},
   "outputs": [],
   "source": [
    "total_cases_percent = ca[['percent_cases', 'percent_of_ca_population','demographic_value']].groupby('demographic_value').max()\n",
    "total_deaths_percent = ca[['percent_deaths', 'percent_of_ca_population','demographic_value']].groupby('demographic_value').max()\n",
    "\n",
    "total_cases_percent = total_cases_percent.drop('Total',axis = 0)\n",
    "total_deaths_percent = total_deaths_percent.drop('Total',axis = 0)\n",
    "\n",
    "total_cases_percent.sort_index(inplace=True)\n",
    "total_deaths_percent.sort_index(inplace=True)"
   ]
  },
  {
   "cell_type": "code",
   "execution_count": 10,
   "metadata": {
    "scrolled": false
   },
   "outputs": [
    {
     "data": {
      "image/png": "[encoded data removed]",
      "text/plain": [
       "<Figure size 720x360 with 1 Axes>"
      ]
     },
     "metadata": {
      "needs_background": "light"
     },
     "output_type": "display_data"
    }
   ],
   "source": [
    "fig, ax = plt.subplots(figsize=(10,5))\n",
    "\n",
    "axis = np.arange(len(code))\n",
    "\n",
    "plt.bar(axis-0.2,cases_death['Percent of cases'], 0.4, label = 'case')\n",
    "plt.bar(axis+0.2,cases_death['Percentage of deaths'], 0.4, label = 'death')\n",
    "\n",
    "plt.xticks(axis, code,rotation=90)\n",
    "\n",
    "ax.legend(frameon=False)\n",
    "ax.set_ylabel('Percentage')\n",
    "ax.set_ylim(0,70)\n",
    "ax.set_title('Share of cases and deaths by race from 18-29 age group')\n",
    "sns.despine(ax=ax)\n",
    "\n",
    "    \n",
    "plt.show()"
   ]
  },
  {
   "cell_type": "code",
   "execution_count": 11,
   "metadata": {},
   "outputs": [
    {
     "data": {
      "image/png": "[encoded data removed]",
      "text/plain": [
       "<Figure size 720x360 with 1 Axes>"
      ]
     },
     "metadata": {
      "needs_background": "light"
     },
     "output_type": "display_data"
    }
   ],
   "source": [
    "fig, ax = plt.subplots(figsize=(10,5))\n",
    "\n",
    "x = ['American Indian or Alaska Native','Asian','Black','Latino','Multi-Race','Native Hawaiian and other Pacific Islander','Other','White']\n",
    "x_axis = np.arange(len(x))\n",
    "\n",
    "plt.bar(x_axis-0.2,total_deaths_percent['percent_of_ca_population'], 0.4, label = 'population')\n",
    "plt.bar(x_axis+0.2,total_deaths_percent['percent_deaths'], 0.4, label = 'death')\n",
    "\n",
    "\n",
    "plt.xticks(x_axis, x,rotation=90)\n",
    "\n",
    "plt.legend(frameon=False)\n",
    "ax.set_ylabel('Percentage')\n",
    "ax.set_ylim(0,70)\n",
    "ax.set_title('Share of population and death by race in California')\n",
    "sns.despine(ax=ax)\n",
    "\n",
    "    \n",
    "plt.show()"
   ]
  },
  {
   "cell_type": "code",
   "execution_count": 12,
   "metadata": {},
   "outputs": [],
   "source": [
    "case_all = pd.read_csv('data_files/cases_by_race_ethnicity__all_age_groups.csv',header=2, index_col=0)\n",
    "partial_dose = pd.read_csv('data_files/race_ethnicity_of_people_with_at_least_one_dose_administered.csv', header=3, index_col=0)"
   ]
  },
  {
   "cell_type": "code",
   "execution_count": 13,
   "metadata": {},
   "outputs": [
    {
     "data": {
      "text/html": [
       "<div>\n",
       "<style scoped>\n",
       "    .dataframe tbody tr th:only-of-type {\n",
       "        vertical-align: middle;\n",
       "    }\n",
       "\n",
       "    .dataframe tbody tr th {\n",
       "        vertical-align: top;\n",
       "    }\n",
       "\n",
       "    .dataframe thead th {\n",
       "        text-align: right;\n",
       "    }\n",
       "</style>\n",
       "<table border=\"1\" class=\"dataframe\">\n",
       "  <thead>\n",
       "    <tr style=\"text-align: right;\">\n",
       "      <th></th>\n",
       "      <th>Percentage</th>\n",
       "      <th>Count</th>\n",
       "    </tr>\n",
       "    <tr>\n",
       "      <th>Race/Ethnicity</th>\n",
       "      <th></th>\n",
       "      <th></th>\n",
       "    </tr>\n",
       "  </thead>\n",
       "  <tbody>\n",
       "    <tr>\n",
       "      <th>Hispanic/Latino</th>\n",
       "      <td>8.6</td>\n",
       "      <td>3177610</td>\n",
       "    </tr>\n",
       "    <tr>\n",
       "      <th>White</th>\n",
       "      <td>66.1</td>\n",
       "      <td>24549940</td>\n",
       "    </tr>\n",
       "    <tr>\n",
       "      <th>American Indian/Alaska Native</th>\n",
       "      <td>1.6</td>\n",
       "      <td>577311</td>\n",
       "    </tr>\n",
       "    <tr>\n",
       "      <th>Asian</th>\n",
       "      <td>4.7</td>\n",
       "      <td>1737701</td>\n",
       "    </tr>\n",
       "    <tr>\n",
       "      <th>Black</th>\n",
       "      <td>7.5</td>\n",
       "      <td>2789615</td>\n",
       "    </tr>\n",
       "    <tr>\n",
       "      <th>Native Hawaiian/Other Pacific Islander</th>\n",
       "      <td>0.3</td>\n",
       "      <td>94999</td>\n",
       "    </tr>\n",
       "    <tr>\n",
       "      <th>Multiple/Other</th>\n",
       "      <td>11.4</td>\n",
       "      <td>4221157</td>\n",
       "    </tr>\n",
       "  </tbody>\n",
       "</table>\n",
       "</div>"
      ],
      "text/plain": [
       "                                         Percentage     Count\n",
       "Race/Ethnicity                                               \n",
       "Hispanic/Latino                                 8.6   3177610\n",
       "White                                          66.1  24549940\n",
       "American Indian/Alaska Native                   1.6    577311\n",
       "Asian                                           4.7   1737701\n",
       "Black                                           7.5   2789615\n",
       "Native Hawaiian/Other Pacific Islander          0.3     94999\n",
       "Multiple/Other                                 11.4   4221157"
      ]
     },
     "execution_count": 13,
     "metadata": {},
     "output_type": "execute_result"
    }
   ],
   "source": [
    "partial_dose"
   ]
  },
  {
   "cell_type": "code",
   "execution_count": 14,
   "metadata": {},
   "outputs": [],
   "source": [
    "case_all = case_all.sort_index(ascending=True)\n",
    "partial_dose = partial_dose.sort_index(ascending=True)\n",
    "case_all.index = code\n",
    "partial_dose.index = code\n",
    "partial_dose.columns = ['Percentage of dose','Count of getting dose']"
   ]
  },
  {
   "cell_type": "code",
   "execution_count": 15,
   "metadata": {
    "scrolled": true
   },
   "outputs": [
    {
     "data": {
      "text/html": [
       "<div>\n",
       "<style scoped>\n",
       "    .dataframe tbody tr th:only-of-type {\n",
       "        vertical-align: middle;\n",
       "    }\n",
       "\n",
       "    .dataframe tbody tr th {\n",
       "        vertical-align: top;\n",
       "    }\n",
       "\n",
       "    .dataframe thead th {\n",
       "        text-align: right;\n",
       "    }\n",
       "</style>\n",
       "<table border=\"1\" class=\"dataframe\">\n",
       "  <thead>\n",
       "    <tr style=\"text-align: right;\">\n",
       "      <th></th>\n",
       "      <th>key_0</th>\n",
       "      <th>Percent of cases</th>\n",
       "      <th>Count of cases</th>\n",
       "      <th>Percent of US population</th>\n",
       "      <th>Percentage of dose</th>\n",
       "      <th>Count of getting dose</th>\n",
       "    </tr>\n",
       "  </thead>\n",
       "  <tbody>\n",
       "    <tr>\n",
       "      <th>0</th>\n",
       "      <td>American Indian or Alaska Native</td>\n",
       "      <td>1.0</td>\n",
       "      <td>146500</td>\n",
       "      <td>0.740</td>\n",
       "      <td>1.6</td>\n",
       "      <td>577311</td>\n",
       "    </tr>\n",
       "    <tr>\n",
       "      <th>1</th>\n",
       "      <td>Asian</td>\n",
       "      <td>3.3</td>\n",
       "      <td>489166</td>\n",
       "      <td>5.760</td>\n",
       "      <td>4.7</td>\n",
       "      <td>1737701</td>\n",
       "    </tr>\n",
       "    <tr>\n",
       "      <th>2</th>\n",
       "      <td>Black</td>\n",
       "      <td>11.0</td>\n",
       "      <td>1645888</td>\n",
       "      <td>12.540</td>\n",
       "      <td>7.5</td>\n",
       "      <td>2789615</td>\n",
       "    </tr>\n",
       "    <tr>\n",
       "      <th>3</th>\n",
       "      <td>Latino</td>\n",
       "      <td>29.5</td>\n",
       "      <td>4426297</td>\n",
       "      <td>18.450</td>\n",
       "      <td>8.6</td>\n",
       "      <td>3177610</td>\n",
       "    </tr>\n",
       "    <tr>\n",
       "      <th>4</th>\n",
       "      <td>Multi-Race</td>\n",
       "      <td>5.3</td>\n",
       "      <td>788545</td>\n",
       "      <td>2.220</td>\n",
       "      <td>11.4</td>\n",
       "      <td>4221157</td>\n",
       "    </tr>\n",
       "    <tr>\n",
       "      <th>5</th>\n",
       "      <td>Native Hawaiian and other Pacific Islander</td>\n",
       "      <td>0.3</td>\n",
       "      <td>43493</td>\n",
       "      <td>0.182</td>\n",
       "      <td>0.3</td>\n",
       "      <td>94999</td>\n",
       "    </tr>\n",
       "    <tr>\n",
       "      <th>6</th>\n",
       "      <td>White</td>\n",
       "      <td>49.7</td>\n",
       "      <td>7461772</td>\n",
       "      <td>60.110</td>\n",
       "      <td>66.1</td>\n",
       "      <td>24549940</td>\n",
       "    </tr>\n",
       "  </tbody>\n",
       "</table>\n",
       "</div>"
      ],
      "text/plain": [
       "                                        key_0  Percent of cases  \\\n",
       "0            American Indian or Alaska Native               1.0   \n",
       "1                                       Asian               3.3   \n",
       "2                                       Black              11.0   \n",
       "3                                      Latino              29.5   \n",
       "4                                  Multi-Race               5.3   \n",
       "5  Native Hawaiian and other Pacific Islander               0.3   \n",
       "6                                       White              49.7   \n",
       "\n",
       "   Count of cases  Percent of US population  Percentage of dose  \\\n",
       "0          146500                     0.740                 1.6   \n",
       "1          489166                     5.760                 4.7   \n",
       "2         1645888                    12.540                 7.5   \n",
       "3         4426297                    18.450                 8.6   \n",
       "4          788545                     2.220                11.4   \n",
       "5           43493                     0.182                 0.3   \n",
       "6         7461772                    60.110                66.1   \n",
       "\n",
       "   Count of getting dose  \n",
       "0                 577311  \n",
       "1                1737701  \n",
       "2                2789615  \n",
       "3                3177610  \n",
       "4                4221157  \n",
       "5                  94999  \n",
       "6               24549940  "
      ]
     },
     "execution_count": 15,
     "metadata": {},
     "output_type": "execute_result"
    }
   ],
   "source": [
    "case_dose = pd.merge(left = case_all, right = partial_dose, left_on=case_all.index, right_on=partial_dose.index)\n",
    "case_dose"
   ]
  },
  {
   "cell_type": "code",
   "execution_count": 16,
   "metadata": {},
   "outputs": [
    {
     "data": {
      "image/png": "[encoded data removed]",
      "text/plain": [
       "<Figure size 720x360 with 1 Axes>"
      ]
     },
     "metadata": {
      "needs_background": "light"
     },
     "output_type": "display_data"
    }
   ],
   "source": [
    "fig, ax = plt.subplots(figsize=(10,5))\n",
    "\n",
    "axis = np.arange(len(code))\n",
    "\n",
    "plt.bar(axis-0.2,case_dose['Percent of cases'], 0.4, label = 'case')\n",
    "plt.bar(axis+0.2,case_dose['Percentage of dose'], 0.4, label = 'at least one dose')\n",
    "\n",
    "plt.xticks(axis, code,rotation=90)\n",
    "\n",
    "plt.legend(frameon=False)\n",
    "ax.set_ylabel('Percentage')\n",
    "ax.set_ylim(0,70)\n",
    "ax.set_title('Share of cases and receiveing at least one dose of vaccine by race')\n",
    "sns.despine(ax=ax)\n",
    "\n",
    "    \n",
    "plt.show()"
   ]
  }
 ],
 "metadata": {
  "kernelspec": {
   "display_name": "Python 3",
   "language": "python",
   "name": "python3"
  },
  "language_info": {
   "codemirror_mode": {
    "name": "ipython",
    "version": 3
   },
   "file_extension": ".py",
   "mimetype": "text/x-python",
   "name": "python",
   "nbconvert_exporter": "python",
   "pygments_lexer": "ipython3",
   "version": "3.7.0"
  }
 },
 "nbformat": 4,
 "nbformat_minor": 4
}
